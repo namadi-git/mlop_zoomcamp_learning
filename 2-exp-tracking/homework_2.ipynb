{
 "cells": [
  {
   "cell_type": "code",
   "execution_count": 1,
   "metadata": {},
   "outputs": [
    {
     "name": "stdout",
     "output_type": "stream",
     "text": [
      "mlflow, version 2.13.1\n"
     ]
    }
   ],
   "source": [
    "! mlflow --version"
   ]
  },
  {
   "cell_type": "code",
   "execution_count": 2,
   "metadata": {},
   "outputs": [],
   "source": [
    "import sys\n",
    "import os\n",
    "sys.path.append('/workspaces/mlop_zoomcamp_learning/utils')\n",
    "import preprocess_data\n",
    "import mlflow"
   ]
  },
  {
   "cell_type": "code",
   "execution_count": 3,
   "metadata": {},
   "outputs": [],
   "source": [
    "x=list(sys.path)"
   ]
  },
  {
   "cell_type": "code",
   "execution_count": 4,
   "metadata": {},
   "outputs": [
    {
     "name": "stdout",
     "output_type": "stream",
     "text": [
      "/home/codespace/anaconda3/envs/mlflow_env/lib/python39.zip\n",
      "/home/codespace/anaconda3/envs/mlflow_env/lib/python3.9\n",
      "/home/codespace/anaconda3/envs/mlflow_env/lib/python3.9/lib-dynload\n",
      "\n",
      "/home/codespace/anaconda3/envs/mlflow_env/lib/python3.9/site-packages\n",
      "/workspaces/mlop_zoomcamp_learning/utils\n"
     ]
    }
   ],
   "source": [
    "for i in range(0,len(x)):\n",
    "    print(x[i])"
   ]
  },
  {
   "cell_type": "code",
   "execution_count": 5,
   "metadata": {},
   "outputs": [],
   "source": [
    "df_jan=preprocess_data.read_dataframe('../data/green_tripdata_2023-01.parquet')"
   ]
  },
  {
   "cell_type": "code",
   "execution_count": 6,
   "metadata": {},
   "outputs": [
    {
     "data": {
      "text/html": [
       "<div>\n",
       "<style scoped>\n",
       "    .dataframe tbody tr th:only-of-type {\n",
       "        vertical-align: middle;\n",
       "    }\n",
       "\n",
       "    .dataframe tbody tr th {\n",
       "        vertical-align: top;\n",
       "    }\n",
       "\n",
       "    .dataframe thead th {\n",
       "        text-align: right;\n",
       "    }\n",
       "</style>\n",
       "<table border=\"1\" class=\"dataframe\">\n",
       "  <thead>\n",
       "    <tr style=\"text-align: right;\">\n",
       "      <th></th>\n",
       "      <th>VendorID</th>\n",
       "      <th>lpep_pickup_datetime</th>\n",
       "      <th>lpep_dropoff_datetime</th>\n",
       "      <th>store_and_fwd_flag</th>\n",
       "      <th>RatecodeID</th>\n",
       "      <th>PULocationID</th>\n",
       "      <th>DOLocationID</th>\n",
       "      <th>passenger_count</th>\n",
       "      <th>trip_distance</th>\n",
       "      <th>fare_amount</th>\n",
       "      <th>...</th>\n",
       "      <th>mta_tax</th>\n",
       "      <th>tip_amount</th>\n",
       "      <th>tolls_amount</th>\n",
       "      <th>ehail_fee</th>\n",
       "      <th>improvement_surcharge</th>\n",
       "      <th>total_amount</th>\n",
       "      <th>payment_type</th>\n",
       "      <th>trip_type</th>\n",
       "      <th>congestion_surcharge</th>\n",
       "      <th>duration</th>\n",
       "    </tr>\n",
       "  </thead>\n",
       "  <tbody>\n",
       "    <tr>\n",
       "      <th>0</th>\n",
       "      <td>2</td>\n",
       "      <td>2023-01-01 00:26:10</td>\n",
       "      <td>2023-01-01 00:37:11</td>\n",
       "      <td>N</td>\n",
       "      <td>1.0</td>\n",
       "      <td>166</td>\n",
       "      <td>143</td>\n",
       "      <td>1.0</td>\n",
       "      <td>2.58</td>\n",
       "      <td>14.9</td>\n",
       "      <td>...</td>\n",
       "      <td>0.5</td>\n",
       "      <td>4.03</td>\n",
       "      <td>0.0</td>\n",
       "      <td>None</td>\n",
       "      <td>1.0</td>\n",
       "      <td>24.18</td>\n",
       "      <td>1.0</td>\n",
       "      <td>1.0</td>\n",
       "      <td>2.75</td>\n",
       "      <td>11.016667</td>\n",
       "    </tr>\n",
       "    <tr>\n",
       "      <th>1</th>\n",
       "      <td>2</td>\n",
       "      <td>2023-01-01 00:51:03</td>\n",
       "      <td>2023-01-01 00:57:49</td>\n",
       "      <td>N</td>\n",
       "      <td>1.0</td>\n",
       "      <td>24</td>\n",
       "      <td>43</td>\n",
       "      <td>1.0</td>\n",
       "      <td>1.81</td>\n",
       "      <td>10.7</td>\n",
       "      <td>...</td>\n",
       "      <td>0.5</td>\n",
       "      <td>2.64</td>\n",
       "      <td>0.0</td>\n",
       "      <td>None</td>\n",
       "      <td>1.0</td>\n",
       "      <td>15.84</td>\n",
       "      <td>1.0</td>\n",
       "      <td>1.0</td>\n",
       "      <td>0.00</td>\n",
       "      <td>6.766667</td>\n",
       "    </tr>\n",
       "    <tr>\n",
       "      <th>2</th>\n",
       "      <td>2</td>\n",
       "      <td>2023-01-01 00:35:12</td>\n",
       "      <td>2023-01-01 00:41:32</td>\n",
       "      <td>N</td>\n",
       "      <td>1.0</td>\n",
       "      <td>223</td>\n",
       "      <td>179</td>\n",
       "      <td>1.0</td>\n",
       "      <td>0.00</td>\n",
       "      <td>7.2</td>\n",
       "      <td>...</td>\n",
       "      <td>0.5</td>\n",
       "      <td>1.94</td>\n",
       "      <td>0.0</td>\n",
       "      <td>None</td>\n",
       "      <td>1.0</td>\n",
       "      <td>11.64</td>\n",
       "      <td>1.0</td>\n",
       "      <td>1.0</td>\n",
       "      <td>0.00</td>\n",
       "      <td>6.333333</td>\n",
       "    </tr>\n",
       "    <tr>\n",
       "      <th>3</th>\n",
       "      <td>1</td>\n",
       "      <td>2023-01-01 00:13:14</td>\n",
       "      <td>2023-01-01 00:19:03</td>\n",
       "      <td>N</td>\n",
       "      <td>1.0</td>\n",
       "      <td>41</td>\n",
       "      <td>238</td>\n",
       "      <td>1.0</td>\n",
       "      <td>1.30</td>\n",
       "      <td>6.5</td>\n",
       "      <td>...</td>\n",
       "      <td>1.5</td>\n",
       "      <td>1.70</td>\n",
       "      <td>0.0</td>\n",
       "      <td>None</td>\n",
       "      <td>1.0</td>\n",
       "      <td>10.20</td>\n",
       "      <td>1.0</td>\n",
       "      <td>1.0</td>\n",
       "      <td>0.00</td>\n",
       "      <td>5.816667</td>\n",
       "    </tr>\n",
       "    <tr>\n",
       "      <th>4</th>\n",
       "      <td>1</td>\n",
       "      <td>2023-01-01 00:33:04</td>\n",
       "      <td>2023-01-01 00:39:02</td>\n",
       "      <td>N</td>\n",
       "      <td>1.0</td>\n",
       "      <td>41</td>\n",
       "      <td>74</td>\n",
       "      <td>1.0</td>\n",
       "      <td>1.10</td>\n",
       "      <td>6.0</td>\n",
       "      <td>...</td>\n",
       "      <td>1.5</td>\n",
       "      <td>0.00</td>\n",
       "      <td>0.0</td>\n",
       "      <td>None</td>\n",
       "      <td>1.0</td>\n",
       "      <td>8.00</td>\n",
       "      <td>1.0</td>\n",
       "      <td>1.0</td>\n",
       "      <td>0.00</td>\n",
       "      <td>5.966667</td>\n",
       "    </tr>\n",
       "  </tbody>\n",
       "</table>\n",
       "<p>5 rows × 21 columns</p>\n",
       "</div>"
      ],
      "text/plain": [
       "   VendorID lpep_pickup_datetime lpep_dropoff_datetime store_and_fwd_flag  \\\n",
       "0         2  2023-01-01 00:26:10   2023-01-01 00:37:11                  N   \n",
       "1         2  2023-01-01 00:51:03   2023-01-01 00:57:49                  N   \n",
       "2         2  2023-01-01 00:35:12   2023-01-01 00:41:32                  N   \n",
       "3         1  2023-01-01 00:13:14   2023-01-01 00:19:03                  N   \n",
       "4         1  2023-01-01 00:33:04   2023-01-01 00:39:02                  N   \n",
       "\n",
       "   RatecodeID PULocationID DOLocationID  passenger_count  trip_distance  \\\n",
       "0         1.0          166          143              1.0           2.58   \n",
       "1         1.0           24           43              1.0           1.81   \n",
       "2         1.0          223          179              1.0           0.00   \n",
       "3         1.0           41          238              1.0           1.30   \n",
       "4         1.0           41           74              1.0           1.10   \n",
       "\n",
       "   fare_amount  ...  mta_tax  tip_amount  tolls_amount  ehail_fee  \\\n",
       "0         14.9  ...      0.5        4.03           0.0       None   \n",
       "1         10.7  ...      0.5        2.64           0.0       None   \n",
       "2          7.2  ...      0.5        1.94           0.0       None   \n",
       "3          6.5  ...      1.5        1.70           0.0       None   \n",
       "4          6.0  ...      1.5        0.00           0.0       None   \n",
       "\n",
       "  improvement_surcharge  total_amount  payment_type  trip_type  \\\n",
       "0                   1.0         24.18           1.0        1.0   \n",
       "1                   1.0         15.84           1.0        1.0   \n",
       "2                   1.0         11.64           1.0        1.0   \n",
       "3                   1.0         10.20           1.0        1.0   \n",
       "4                   1.0          8.00           1.0        1.0   \n",
       "\n",
       "   congestion_surcharge   duration  \n",
       "0                  2.75  11.016667  \n",
       "1                  0.00   6.766667  \n",
       "2                  0.00   6.333333  \n",
       "3                  0.00   5.816667  \n",
       "4                  0.00   5.966667  \n",
       "\n",
       "[5 rows x 21 columns]"
      ]
     },
     "execution_count": 6,
     "metadata": {},
     "output_type": "execute_result"
    }
   ],
   "source": [
    "df_jan.head()"
   ]
  },
  {
   "cell_type": "code",
   "execution_count": 7,
   "metadata": {},
   "outputs": [
    {
     "name": "stdout",
     "output_type": "stream",
     "text": [
      "/workspaces/mlop_zoomcamp_learning/2-exp-tracking\n"
     ]
    }
   ],
   "source": [
    "! pwd"
   ]
  },
  {
   "cell_type": "code",
   "execution_count": 8,
   "metadata": {},
   "outputs": [],
   "source": [
    "!python ../utils/preprocess_data.py --raw_data_path ../data/ --dest_path ./output"
   ]
  },
  {
   "cell_type": "code",
   "execution_count": 15,
   "metadata": {},
   "outputs": [
    {
     "name": "stdout",
     "output_type": "stream",
     "text": [
      "2024/06/06 02:58:25 WARNING mlflow.utils.autologging_utils: You are using an unsupported version of sklearn. If you encounter errors during autologging, try upgrading / downgrading sklearn to a supported version, or try upgrading MLflow.\n",
      "2024/06/06 02:58:25 INFO mlflow.tracking.fluent: Autologging successfully enabled for sklearn.\n",
      "2024/06/06 02:58:25 WARNING mlflow.sklearn: Failed to log training dataset information to MLflow Tracking. Reason: 'numpy.ndarray' object has no attribute 'toarray'\n",
      "2024/06/06 02:58:39 WARNING mlflow.utils.autologging_utils: MLflow autologging encountered a warning: \"/home/codespace/anaconda3/envs/mlflow_env/lib/python3.9/site-packages/_distutils_hack/__init__.py:26: UserWarning: Setuptools is replacing distutils.\"\n",
      "/home/codespace/anaconda3/envs/mlflow_env/lib/python3.9/site-packages/sklearn/metrics/_regression.py:492: FutureWarning: 'squared' is deprecated in version 1.4 and will be removed in 1.6. To calculate the root mean squared error, use the function'root_mean_squared_error'.\n",
      "  warnings.warn(\n"
     ]
    }
   ],
   "source": [
    "!python ../utils/train.py --data_path ./output"
   ]
  },
  {
   "cell_type": "code",
   "execution_count": 22,
   "metadata": {},
   "outputs": [
    {
     "ename": "MlflowException",
     "evalue": "No Experiment with id=2 exists",
     "output_type": "error",
     "traceback": [
      "\u001b[0;31m---------------------------------------------------------------------------\u001b[0m",
      "\u001b[0;31mMlflowException\u001b[0m                           Traceback (most recent call last)",
      "Cell \u001b[0;32mIn[22], line 17\u001b[0m\n\u001b[1;32m     14\u001b[0m     \u001b[38;5;28mprint\u001b[39m(\u001b[38;5;124mf\u001b[39m\u001b[38;5;124m\"\u001b[39m\u001b[38;5;124mExperiment with ID \u001b[39m\u001b[38;5;124m'\u001b[39m\u001b[38;5;132;01m{\u001b[39;00mexperiment_id\u001b[38;5;132;01m}\u001b[39;00m\u001b[38;5;124m'\u001b[39m\u001b[38;5;124m and name \u001b[39m\u001b[38;5;124m'\u001b[39m\u001b[38;5;132;01m{\u001b[39;00mexperiment_name\u001b[38;5;132;01m}\u001b[39;00m\u001b[38;5;124m'\u001b[39m\u001b[38;5;124m has been marked as deleted.\u001b[39m\u001b[38;5;124m\"\u001b[39m)\n\u001b[1;32m     16\u001b[0m \u001b[38;5;66;03m# Replace 'your_experiment_name' with the name of the experiment you want to delete\u001b[39;00m\n\u001b[0;32m---> 17\u001b[0m \u001b[43mdelete_experiment_by_name\u001b[49m\u001b[43m(\u001b[49m\u001b[38;5;124;43m'\u001b[39;49m\u001b[38;5;124;43mrandom-forest-hyperopt\u001b[39;49m\u001b[38;5;124;43m'\u001b[39;49m\u001b[43m)\u001b[49m\n",
      "Cell \u001b[0;32mIn[22], line 13\u001b[0m, in \u001b[0;36mdelete_experiment_by_name\u001b[0;34m(experiment_name)\u001b[0m\n\u001b[1;32m     10\u001b[0m experiment_id \u001b[38;5;241m=\u001b[39m experiment\u001b[38;5;241m.\u001b[39mexperiment_id\n\u001b[1;32m     12\u001b[0m \u001b[38;5;66;03m# Delete the experiment by ID\u001b[39;00m\n\u001b[0;32m---> 13\u001b[0m \u001b[43mmlflow\u001b[49m\u001b[38;5;241;43m.\u001b[39;49m\u001b[43mdelete_experiment\u001b[49m\u001b[43m(\u001b[49m\u001b[43mexperiment_id\u001b[49m\u001b[43m)\u001b[49m\n\u001b[1;32m     14\u001b[0m \u001b[38;5;28mprint\u001b[39m(\u001b[38;5;124mf\u001b[39m\u001b[38;5;124m\"\u001b[39m\u001b[38;5;124mExperiment with ID \u001b[39m\u001b[38;5;124m'\u001b[39m\u001b[38;5;132;01m{\u001b[39;00mexperiment_id\u001b[38;5;132;01m}\u001b[39;00m\u001b[38;5;124m'\u001b[39m\u001b[38;5;124m and name \u001b[39m\u001b[38;5;124m'\u001b[39m\u001b[38;5;132;01m{\u001b[39;00mexperiment_name\u001b[38;5;132;01m}\u001b[39;00m\u001b[38;5;124m'\u001b[39m\u001b[38;5;124m has been marked as deleted.\u001b[39m\u001b[38;5;124m\"\u001b[39m)\n",
      "File \u001b[0;32m~/anaconda3/envs/mlflow_env/lib/python3.9/site-packages/mlflow/tracking/fluent.py:1760\u001b[0m, in \u001b[0;36mdelete_experiment\u001b[0;34m(experiment_id)\u001b[0m\n\u001b[1;32m   1728\u001b[0m \u001b[38;5;28;01mdef\u001b[39;00m \u001b[38;5;21mdelete_experiment\u001b[39m(experiment_id: \u001b[38;5;28mstr\u001b[39m) \u001b[38;5;241m-\u001b[39m\u001b[38;5;241m>\u001b[39m \u001b[38;5;28;01mNone\u001b[39;00m:\n\u001b[1;32m   1729\u001b[0m \u001b[38;5;250m    \u001b[39m\u001b[38;5;124;03m\"\"\"\u001b[39;00m\n\u001b[1;32m   1730\u001b[0m \u001b[38;5;124;03m    Delete an experiment from the backend store.\u001b[39;00m\n\u001b[1;32m   1731\u001b[0m \n\u001b[0;32m   (...)\u001b[0m\n\u001b[1;32m   1758\u001b[0m \n\u001b[1;32m   1759\u001b[0m \u001b[38;5;124;03m    \"\"\"\u001b[39;00m\n\u001b[0;32m-> 1760\u001b[0m     \u001b[43mMlflowClient\u001b[49m\u001b[43m(\u001b[49m\u001b[43m)\u001b[49m\u001b[38;5;241;43m.\u001b[39;49m\u001b[43mdelete_experiment\u001b[49m\u001b[43m(\u001b[49m\u001b[43mexperiment_id\u001b[49m\u001b[43m)\u001b[49m\n",
      "File \u001b[0;32m~/anaconda3/envs/mlflow_env/lib/python3.9/site-packages/mlflow/tracking/client.py:1315\u001b[0m, in \u001b[0;36mMlflowClient.delete_experiment\u001b[0;34m(self, experiment_id)\u001b[0m\n\u001b[1;32m   1282\u001b[0m \u001b[38;5;28;01mdef\u001b[39;00m \u001b[38;5;21mdelete_experiment\u001b[39m(\u001b[38;5;28mself\u001b[39m, experiment_id: \u001b[38;5;28mstr\u001b[39m) \u001b[38;5;241m-\u001b[39m\u001b[38;5;241m>\u001b[39m \u001b[38;5;28;01mNone\u001b[39;00m:\n\u001b[1;32m   1283\u001b[0m \u001b[38;5;250m    \u001b[39m\u001b[38;5;124;03m\"\"\"Delete an experiment from the backend store.\u001b[39;00m\n\u001b[1;32m   1284\u001b[0m \n\u001b[1;32m   1285\u001b[0m \u001b[38;5;124;03m    This deletion is a soft-delete, not a permanent deletion. Experiment names can not be\u001b[39;00m\n\u001b[0;32m   (...)\u001b[0m\n\u001b[1;32m   1313\u001b[0m \n\u001b[1;32m   1314\u001b[0m \u001b[38;5;124;03m    \"\"\"\u001b[39;00m\n\u001b[0;32m-> 1315\u001b[0m     \u001b[38;5;28;43mself\u001b[39;49m\u001b[38;5;241;43m.\u001b[39;49m\u001b[43m_tracking_client\u001b[49m\u001b[38;5;241;43m.\u001b[39;49m\u001b[43mdelete_experiment\u001b[49m\u001b[43m(\u001b[49m\u001b[43mexperiment_id\u001b[49m\u001b[43m)\u001b[49m\n",
      "File \u001b[0;32m~/anaconda3/envs/mlflow_env/lib/python3.9/site-packages/mlflow/tracking/_tracking_service/client.py:511\u001b[0m, in \u001b[0;36mTrackingServiceClient.delete_experiment\u001b[0;34m(self, experiment_id)\u001b[0m\n\u001b[1;32m    504\u001b[0m \u001b[38;5;28;01mdef\u001b[39;00m \u001b[38;5;21mdelete_experiment\u001b[39m(\u001b[38;5;28mself\u001b[39m, experiment_id):\n\u001b[1;32m    505\u001b[0m \u001b[38;5;250m    \u001b[39m\u001b[38;5;124;03m\"\"\"Delete an experiment from the backend store.\u001b[39;00m\n\u001b[1;32m    506\u001b[0m \n\u001b[1;32m    507\u001b[0m \u001b[38;5;124;03m    Args:\u001b[39;00m\n\u001b[1;32m    508\u001b[0m \u001b[38;5;124;03m        experiment_id: The experiment ID returned from ``create_experiment``.\u001b[39;00m\n\u001b[1;32m    509\u001b[0m \n\u001b[1;32m    510\u001b[0m \u001b[38;5;124;03m    \"\"\"\u001b[39;00m\n\u001b[0;32m--> 511\u001b[0m     \u001b[38;5;28;43mself\u001b[39;49m\u001b[38;5;241;43m.\u001b[39;49m\u001b[43mstore\u001b[49m\u001b[38;5;241;43m.\u001b[39;49m\u001b[43mdelete_experiment\u001b[49m\u001b[43m(\u001b[49m\u001b[43mexperiment_id\u001b[49m\u001b[43m)\u001b[49m\n",
      "File \u001b[0;32m~/anaconda3/envs/mlflow_env/lib/python3.9/site-packages/mlflow/store/tracking/sqlalchemy_store.py:412\u001b[0m, in \u001b[0;36mSqlAlchemyStore.delete_experiment\u001b[0;34m(self, experiment_id)\u001b[0m\n\u001b[1;32m    410\u001b[0m \u001b[38;5;28;01mdef\u001b[39;00m \u001b[38;5;21mdelete_experiment\u001b[39m(\u001b[38;5;28mself\u001b[39m, experiment_id):\n\u001b[1;32m    411\u001b[0m     \u001b[38;5;28;01mwith\u001b[39;00m \u001b[38;5;28mself\u001b[39m\u001b[38;5;241m.\u001b[39mManagedSessionMaker() \u001b[38;5;28;01mas\u001b[39;00m session:\n\u001b[0;32m--> 412\u001b[0m         experiment \u001b[38;5;241m=\u001b[39m \u001b[38;5;28;43mself\u001b[39;49m\u001b[38;5;241;43m.\u001b[39;49m\u001b[43m_get_experiment\u001b[49m\u001b[43m(\u001b[49m\u001b[43msession\u001b[49m\u001b[43m,\u001b[49m\u001b[43m \u001b[49m\u001b[43mexperiment_id\u001b[49m\u001b[43m,\u001b[49m\u001b[43m \u001b[49m\u001b[43mViewType\u001b[49m\u001b[38;5;241;43m.\u001b[39;49m\u001b[43mACTIVE_ONLY\u001b[49m\u001b[43m)\u001b[49m\n\u001b[1;32m    413\u001b[0m         experiment\u001b[38;5;241m.\u001b[39mlifecycle_stage \u001b[38;5;241m=\u001b[39m LifecycleStage\u001b[38;5;241m.\u001b[39mDELETED\n\u001b[1;32m    414\u001b[0m         experiment\u001b[38;5;241m.\u001b[39mlast_update_time \u001b[38;5;241m=\u001b[39m get_current_time_millis()\n",
      "File \u001b[0;32m~/anaconda3/envs/mlflow_env/lib/python3.9/site-packages/mlflow/store/tracking/sqlalchemy_store.py:368\u001b[0m, in \u001b[0;36mSqlAlchemyStore._get_experiment\u001b[0;34m(self, session, experiment_id, view_type, eager)\u001b[0m\n\u001b[1;32m    357\u001b[0m experiment \u001b[38;5;241m=\u001b[39m (\n\u001b[1;32m    358\u001b[0m     session\u001b[38;5;241m.\u001b[39mquery(SqlExperiment)\n\u001b[1;32m    359\u001b[0m     \u001b[38;5;241m.\u001b[39moptions(\u001b[38;5;241m*\u001b[39mquery_options)\n\u001b[0;32m   (...)\u001b[0m\n\u001b[1;32m    364\u001b[0m     \u001b[38;5;241m.\u001b[39mone_or_none()\n\u001b[1;32m    365\u001b[0m )\n\u001b[1;32m    367\u001b[0m \u001b[38;5;28;01mif\u001b[39;00m experiment \u001b[38;5;129;01mis\u001b[39;00m \u001b[38;5;28;01mNone\u001b[39;00m:\n\u001b[0;32m--> 368\u001b[0m     \u001b[38;5;28;01mraise\u001b[39;00m MlflowException(\n\u001b[1;32m    369\u001b[0m         \u001b[38;5;124mf\u001b[39m\u001b[38;5;124m\"\u001b[39m\u001b[38;5;124mNo Experiment with id=\u001b[39m\u001b[38;5;132;01m{\u001b[39;00mexperiment_id\u001b[38;5;132;01m}\u001b[39;00m\u001b[38;5;124m exists\u001b[39m\u001b[38;5;124m\"\u001b[39m, RESOURCE_DOES_NOT_EXIST\n\u001b[1;32m    370\u001b[0m     )\n\u001b[1;32m    372\u001b[0m \u001b[38;5;28;01mreturn\u001b[39;00m experiment\n",
      "\u001b[0;31mMlflowException\u001b[0m: No Experiment with id=2 exists"
     ]
    }
   ],
   "source": [
    "#made a mistake in experiment 'random-forest-hyperopt'\n",
    "# to delete \n",
    "def delete_experiment_by_name(experiment_name):\n",
    "    # Get the experiment ID by name\n",
    "    experiment = mlflow.get_experiment_by_name(experiment_name)\n",
    "    if experiment is None:\n",
    "        print(f\"Experiment with name '{experiment_name}' does not exist.\")\n",
    "        return\n",
    "    \n",
    "    experiment_id = experiment.experiment_id\n",
    "\n",
    "    # Delete the experiment by ID\n",
    "    mlflow.delete_experiment(experiment_id)\n",
    "    print(f\"Experiment with ID '{experiment_id}' and name '{experiment_name}' has been marked as deleted.\")\n",
    "\n",
    "# Replace 'your_experiment_name' with the name of the experiment you want to delete\n",
    "delete_experiment_by_name('random-forest-hyperopt')"
   ]
  },
  {
   "cell_type": "code",
   "execution_count": 59,
   "metadata": {},
   "outputs": [
    {
     "data": {
      "text/plain": [
       "[<Experiment: artifact_location='/workspaces/mlop_zoomcamp_learning/2-exp-tracking/mlruns/4', creation_time=1717650702391, experiment_id='4', last_update_time=1717650702391, lifecycle_stage='active', name='random-forest-hyperopt-2', tags={}>,\n",
       " <Experiment: artifact_location='/workspaces/mlop_zoomcamp_learning/2-exp-tracking/artifacts/3', creation_time=1717644644066, experiment_id='3', last_update_time=1717644644066, lifecycle_stage='active', name='random-forest-best-models', tags={}>,\n",
       " <Experiment: artifact_location='/workspaces/mlop_zoomcamp_learning/2-exp-tracking/mlruns/1', creation_time=1717640080544, experiment_id='1', last_update_time=1717640080544, lifecycle_stage='active', name='hw2-experiment', tags={}>,\n",
       " <Experiment: artifact_location='/workspaces/mlop_zoomcamp_learning/2-exp-tracking/artifacts/0', creation_time=1717639786032, experiment_id='0', last_update_time=1717639786032, lifecycle_stage='active', name='Default', tags={}>]"
      ]
     },
     "execution_count": 59,
     "metadata": {},
     "output_type": "execute_result"
    }
   ],
   "source": [
    "mlflow.search_experiments() "
   ]
  },
  {
   "cell_type": "code",
   "execution_count": null,
   "metadata": {},
   "outputs": [],
   "source": []
  },
  {
   "cell_type": "code",
   "execution_count": 37,
   "metadata": {},
   "outputs": [
    {
     "name": "stdout",
     "output_type": "stream",
     "text": [
      "Experiment with ID '2' and name 'random-forest-hyperopt' has been permanently deleted.\n"
     ]
    }
   ],
   "source": [
    "import os\n",
    "import shutil\n",
    "import mlflow\n",
    "from sqlalchemy import create_engine, text\n",
    "\n",
    "def delete_experiment_permanently(experiment_name, db_uri, artifact_root):\n",
    "    # Get the experiment details by name\n",
    "    experiment = mlflow.get_experiment_by_name(experiment_name)\n",
    "    if experiment is None:\n",
    "        print(f\"Experiment with name '{experiment_name}' does not exist.\")\n",
    "        return\n",
    "\n",
    "    experiment_id = experiment.experiment_id\n",
    "\n",
    "    # Delete the experiment metadata from the backend store\n",
    "    engine = create_engine(db_uri)\n",
    "    with engine.connect() as connection:\n",
    "        connection.execute(text(\"DELETE FROM metrics WHERE run_uuid IN (SELECT run_uuid FROM runs WHERE experiment_id = :experiment_id)\"), {\"experiment_id\": experiment_id})\n",
    "        connection.execute(text(\"DELETE FROM params WHERE run_uuid IN (SELECT run_uuid FROM runs WHERE experiment_id = :experiment_id)\"), {\"experiment_id\": experiment_id})\n",
    "        connection.execute(text(\"DELETE FROM tags WHERE run_uuid IN (SELECT run_uuid FROM runs WHERE experiment_id = :experiment_id)\"), {\"experiment_id\": experiment_id})\n",
    "        connection.execute(text(\"DELETE FROM runs WHERE experiment_id = :experiment_id\"), {\"experiment_id\": experiment_id})\n",
    "        connection.execute(text(\"DELETE FROM experiments WHERE experiment_id = :experiment_id\"), {\"experiment_id\": experiment_id})\n",
    "\n",
    "    # Delete the associated artifacts\n",
    "    artifact_path = os.path.join(artifact_root, str(experiment_id))\n",
    "    if os.path.exists(artifact_path):\n",
    "        shutil.rmtree(artifact_path)\n",
    "\n",
    "    print(f\"Experiment with ID '{experiment_id}' and name '{experiment_name}' has been permanently deleted.\")\n",
    "\n",
    "# Replace with your details\n",
    "db_uri = 'sqlite:///mlflow.db'  # Example for SQLite\n",
    "artifact_root = './mlruns'\n",
    "experiment_name = 'random-forest-hyperopt'\n",
    "\n",
    "delete_experiment_permanently(experiment_name, db_uri, artifact_root)\n"
   ]
  },
  {
   "cell_type": "code",
   "execution_count": 40,
   "metadata": {},
   "outputs": [
    {
     "name": "stdout",
     "output_type": "stream",
     "text": [
      "2024/06/06 05:11:42 INFO mlflow.tracking.fluent: Experiment with name 'random-forest-hyperopt-2' does not exist. Creating a new experiment.\n",
      "  0%|                                    | 0/15 [00:00<?, ?trial/s, best loss=?]/home/codespace/anaconda3/envs/mlflow_env/lib/python3.9/site-packages/sklearn/metrics/_regression.py:492: FutureWarning: 'squared' is deprecated in version 1.4 and will be removed in 1.6. To calculate the root mean squared error, use the function'root_mean_squared_error'.\n",
      "  warnings.warn(\n",
      "\n",
      "  7%|▋          | 1/15 [00:08<01:58,  8.44s/trial, best loss: 5.370086069268862]/home/codespace/anaconda3/envs/mlflow_env/lib/python3.9/site-packages/sklearn/metrics/_regression.py:492: FutureWarning: 'squared' is deprecated in version 1.4 and will be removed in 1.6. To calculate the root mean squared error, use the function'root_mean_squared_error'.\n",
      "  warnings.warn(\n",
      "\n",
      " 13%|█▍         | 2/15 [00:08<00:48,  3.75s/trial, best loss: 5.370086069268862]/home/codespace/anaconda3/envs/mlflow_env/lib/python3.9/site-packages/sklearn/metrics/_regression.py:492: FutureWarning: 'squared' is deprecated in version 1.4 and will be removed in 1.6. To calculate the root mean squared error, use the function'root_mean_squared_error'.\n",
      "  warnings.warn(\n",
      "\n",
      " 20%|██▏        | 3/15 [00:09<00:27,  2.33s/trial, best loss: 5.370086069268862]/home/codespace/anaconda3/envs/mlflow_env/lib/python3.9/site-packages/sklearn/metrics/_regression.py:492: FutureWarning: 'squared' is deprecated in version 1.4 and will be removed in 1.6. To calculate the root mean squared error, use the function'root_mean_squared_error'.\n",
      "  warnings.warn(\n",
      "\n",
      " 27%|██▉        | 4/15 [00:14<00:39,  3.56s/trial, best loss: 5.357490752366866]/home/codespace/anaconda3/envs/mlflow_env/lib/python3.9/site-packages/sklearn/metrics/_regression.py:492: FutureWarning: 'squared' is deprecated in version 1.4 and will be removed in 1.6. To calculate the root mean squared error, use the function'root_mean_squared_error'.\n",
      "  warnings.warn(\n",
      "\n",
      " 33%|███▋       | 5/15 [00:18<00:33,  3.39s/trial, best loss: 5.357490752366866]/home/codespace/anaconda3/envs/mlflow_env/lib/python3.9/site-packages/sklearn/metrics/_regression.py:492: FutureWarning: 'squared' is deprecated in version 1.4 and will be removed in 1.6. To calculate the root mean squared error, use the function'root_mean_squared_error'.\n",
      "  warnings.warn(\n",
      "\n",
      " 40%|████▍      | 6/15 [00:27<00:47,  5.32s/trial, best loss: 5.354695072530291]/home/codespace/anaconda3/envs/mlflow_env/lib/python3.9/site-packages/sklearn/metrics/_regression.py:492: FutureWarning: 'squared' is deprecated in version 1.4 and will be removed in 1.6. To calculate the root mean squared error, use the function'root_mean_squared_error'.\n",
      "  warnings.warn(\n",
      "\n",
      " 47%|█████▏     | 7/15 [00:36<00:51,  6.48s/trial, best loss: 5.354695072530291]/home/codespace/anaconda3/envs/mlflow_env/lib/python3.9/site-packages/sklearn/metrics/_regression.py:492: FutureWarning: 'squared' is deprecated in version 1.4 and will be removed in 1.6. To calculate the root mean squared error, use the function'root_mean_squared_error'.\n",
      "  warnings.warn(\n",
      "\n",
      " 53%|█████▊     | 8/15 [00:37<00:33,  4.74s/trial, best loss: 5.354695072530291]/home/codespace/anaconda3/envs/mlflow_env/lib/python3.9/site-packages/sklearn/metrics/_regression.py:492: FutureWarning: 'squared' is deprecated in version 1.4 and will be removed in 1.6. To calculate the root mean squared error, use the function'root_mean_squared_error'.\n",
      "  warnings.warn(\n",
      "\n",
      " 60%|██████▌    | 9/15 [00:42<00:30,  5.02s/trial, best loss: 5.354695072530291]/home/codespace/anaconda3/envs/mlflow_env/lib/python3.9/site-packages/sklearn/metrics/_regression.py:492: FutureWarning: 'squared' is deprecated in version 1.4 and will be removed in 1.6. To calculate the root mean squared error, use the function'root_mean_squared_error'.\n",
      "  warnings.warn(\n",
      "\n",
      " 67%|██████▋   | 10/15 [00:47<00:24,  4.85s/trial, best loss: 5.354695072530291]/home/codespace/anaconda3/envs/mlflow_env/lib/python3.9/site-packages/sklearn/metrics/_regression.py:492: FutureWarning: 'squared' is deprecated in version 1.4 and will be removed in 1.6. To calculate the root mean squared error, use the function'root_mean_squared_error'.\n",
      "  warnings.warn(\n",
      "\n",
      " 73%|███████▎  | 11/15 [00:50<00:17,  4.47s/trial, best loss: 5.335419588556921]/home/codespace/anaconda3/envs/mlflow_env/lib/python3.9/site-packages/sklearn/metrics/_regression.py:492: FutureWarning: 'squared' is deprecated in version 1.4 and will be removed in 1.6. To calculate the root mean squared error, use the function'root_mean_squared_error'.\n",
      "  warnings.warn(\n",
      "\n",
      " 80%|████████  | 12/15 [00:53<00:11,  3.99s/trial, best loss: 5.335419588556921]/home/codespace/anaconda3/envs/mlflow_env/lib/python3.9/site-packages/sklearn/metrics/_regression.py:492: FutureWarning: 'squared' is deprecated in version 1.4 and will be removed in 1.6. To calculate the root mean squared error, use the function'root_mean_squared_error'.\n",
      "  warnings.warn(\n",
      "\n",
      " 87%|████████▋ | 13/15 [00:54<00:06,  3.10s/trial, best loss: 5.335419588556921]/home/codespace/anaconda3/envs/mlflow_env/lib/python3.9/site-packages/sklearn/metrics/_regression.py:492: FutureWarning: 'squared' is deprecated in version 1.4 and will be removed in 1.6. To calculate the root mean squared error, use the function'root_mean_squared_error'.\n",
      "  warnings.warn(\n",
      "\n",
      " 93%|█████████▎| 14/15 [00:57<00:03,  3.14s/trial, best loss: 5.335419588556921]/home/codespace/anaconda3/envs/mlflow_env/lib/python3.9/site-packages/sklearn/metrics/_regression.py:492: FutureWarning: 'squared' is deprecated in version 1.4 and will be removed in 1.6. To calculate the root mean squared error, use the function'root_mean_squared_error'.\n",
      "  warnings.warn(\n",
      "\n",
      "100%|██████████| 15/15 [01:03<00:00,  4.21s/trial, best loss: 5.335419588556921]\n"
     ]
    }
   ],
   "source": [
    "!python ../utils/hpo.py --data_path ./output --num_trials 15"
   ]
  },
  {
   "cell_type": "code",
   "execution_count": 43,
   "metadata": {},
   "outputs": [],
   "source": [
    "#As of mlflow 1.11.0, the recommended way to permanently delete runs within an experiment is\n",
    "#!mlflow gc --experiment-ids 4"
   ]
  },
  {
   "cell_type": "code",
   "execution_count": 57,
   "metadata": {},
   "outputs": [
    {
     "name": "stdout",
     "output_type": "stream",
     "text": [
      "/home/codespace/anaconda3/envs/mlflow_env/lib/python3.9/site-packages/sklearn/metrics/_regression.py:492: FutureWarning: 'squared' is deprecated in version 1.4 and will be removed in 1.6. To calculate the root mean squared error, use the function'root_mean_squared_error'.\n",
      "  warnings.warn(\n",
      "/home/codespace/anaconda3/envs/mlflow_env/lib/python3.9/site-packages/sklearn/metrics/_regression.py:492: FutureWarning: 'squared' is deprecated in version 1.4 and will be removed in 1.6. To calculate the root mean squared error, use the function'root_mean_squared_error'.\n",
      "  warnings.warn(\n",
      "/home/codespace/anaconda3/envs/mlflow_env/lib/python3.9/site-packages/_distutils_hack/__init__.py:11: UserWarning: Distutils was imported before Setuptools, but importing Setuptools also replaces the `distutils` module in `sys.modules`. This may lead to undesirable behaviors or errors. To avoid these issues, avoid using distutils directly, ensure that setuptools is installed in the traditional way (e.g. not an editable install), and/or make sure that setuptools is always imported before distutils.\n",
      "  warnings.warn(\n",
      "/home/codespace/anaconda3/envs/mlflow_env/lib/python3.9/site-packages/_distutils_hack/__init__.py:26: UserWarning: Setuptools is replacing distutils.\n",
      "  warnings.warn(\"Setuptools is replacing distutils.\")\n",
      "/home/codespace/anaconda3/envs/mlflow_env/lib/python3.9/site-packages/sklearn/metrics/_regression.py:492: FutureWarning: 'squared' is deprecated in version 1.4 and will be removed in 1.6. To calculate the root mean squared error, use the function'root_mean_squared_error'.\n",
      "  warnings.warn(\n",
      "/home/codespace/anaconda3/envs/mlflow_env/lib/python3.9/site-packages/sklearn/metrics/_regression.py:492: FutureWarning: 'squared' is deprecated in version 1.4 and will be removed in 1.6. To calculate the root mean squared error, use the function'root_mean_squared_error'.\n",
      "  warnings.warn(\n",
      "/home/codespace/anaconda3/envs/mlflow_env/lib/python3.9/site-packages/_distutils_hack/__init__.py:11: UserWarning: Distutils was imported before Setuptools, but importing Setuptools also replaces the `distutils` module in `sys.modules`. This may lead to undesirable behaviors or errors. To avoid these issues, avoid using distutils directly, ensure that setuptools is installed in the traditional way (e.g. not an editable install), and/or make sure that setuptools is always imported before distutils.\n",
      "  warnings.warn(\n",
      "/home/codespace/anaconda3/envs/mlflow_env/lib/python3.9/site-packages/_distutils_hack/__init__.py:26: UserWarning: Setuptools is replacing distutils.\n",
      "  warnings.warn(\"Setuptools is replacing distutils.\")\n",
      "/home/codespace/anaconda3/envs/mlflow_env/lib/python3.9/site-packages/sklearn/metrics/_regression.py:492: FutureWarning: 'squared' is deprecated in version 1.4 and will be removed in 1.6. To calculate the root mean squared error, use the function'root_mean_squared_error'.\n",
      "  warnings.warn(\n",
      "/home/codespace/anaconda3/envs/mlflow_env/lib/python3.9/site-packages/sklearn/metrics/_regression.py:492: FutureWarning: 'squared' is deprecated in version 1.4 and will be removed in 1.6. To calculate the root mean squared error, use the function'root_mean_squared_error'.\n",
      "  warnings.warn(\n",
      "/home/codespace/anaconda3/envs/mlflow_env/lib/python3.9/site-packages/_distutils_hack/__init__.py:11: UserWarning: Distutils was imported before Setuptools, but importing Setuptools also replaces the `distutils` module in `sys.modules`. This may lead to undesirable behaviors or errors. To avoid these issues, avoid using distutils directly, ensure that setuptools is installed in the traditional way (e.g. not an editable install), and/or make sure that setuptools is always imported before distutils.\n",
      "  warnings.warn(\n",
      "/home/codespace/anaconda3/envs/mlflow_env/lib/python3.9/site-packages/_distutils_hack/__init__.py:26: UserWarning: Setuptools is replacing distutils.\n",
      "  warnings.warn(\"Setuptools is replacing distutils.\")\n",
      "/home/codespace/anaconda3/envs/mlflow_env/lib/python3.9/site-packages/sklearn/metrics/_regression.py:492: FutureWarning: 'squared' is deprecated in version 1.4 and will be removed in 1.6. To calculate the root mean squared error, use the function'root_mean_squared_error'.\n",
      "  warnings.warn(\n",
      "/home/codespace/anaconda3/envs/mlflow_env/lib/python3.9/site-packages/sklearn/metrics/_regression.py:492: FutureWarning: 'squared' is deprecated in version 1.4 and will be removed in 1.6. To calculate the root mean squared error, use the function'root_mean_squared_error'.\n",
      "  warnings.warn(\n",
      "/home/codespace/anaconda3/envs/mlflow_env/lib/python3.9/site-packages/_distutils_hack/__init__.py:11: UserWarning: Distutils was imported before Setuptools, but importing Setuptools also replaces the `distutils` module in `sys.modules`. This may lead to undesirable behaviors or errors. To avoid these issues, avoid using distutils directly, ensure that setuptools is installed in the traditional way (e.g. not an editable install), and/or make sure that setuptools is always imported before distutils.\n",
      "  warnings.warn(\n",
      "/home/codespace/anaconda3/envs/mlflow_env/lib/python3.9/site-packages/_distutils_hack/__init__.py:26: UserWarning: Setuptools is replacing distutils.\n",
      "  warnings.warn(\"Setuptools is replacing distutils.\")\n",
      "/home/codespace/anaconda3/envs/mlflow_env/lib/python3.9/site-packages/sklearn/metrics/_regression.py:492: FutureWarning: 'squared' is deprecated in version 1.4 and will be removed in 1.6. To calculate the root mean squared error, use the function'root_mean_squared_error'.\n",
      "  warnings.warn(\n",
      "/home/codespace/anaconda3/envs/mlflow_env/lib/python3.9/site-packages/sklearn/metrics/_regression.py:492: FutureWarning: 'squared' is deprecated in version 1.4 and will be removed in 1.6. To calculate the root mean squared error, use the function'root_mean_squared_error'.\n",
      "  warnings.warn(\n",
      "Successfully registered model 'best_model_run'.\n",
      "Created version '1' of model 'best_model_run'.\n"
     ]
    }
   ],
   "source": [
    "!python ../utils/register_model.py --data_path ./output --top_n 5"
   ]
  },
  {
   "cell_type": "code",
   "execution_count": 51,
   "metadata": {},
   "outputs": [
    {
     "name": "stderr",
     "output_type": "stream",
     "text": [
      "Registered model 'bestmodel_test' already exists. Creating a new version of this model...\n",
      "Created version '1' of model 'bestmodel_test'.\n"
     ]
    },
    {
     "data": {
      "text/plain": [
       "<ModelVersion: aliases=[], creation_timestamp=1717653047001, current_stage='None', description=None, last_updated_timestamp=1717653047001, name='bestmodel_test', run_id='90a6cb82264e4a7ab4d91bb5ff33e470', run_link=None, source='/workspaces/mlop_zoomcamp_learning/2-exp-tracking/artifacts/3/90a6cb82264e4a7ab4d91bb5ff33e470/artifacts/models/models', status='READY', status_message=None, tags={}, user_id=None, version=1>"
      ]
     },
     "execution_count": 51,
     "metadata": {},
     "output_type": "execute_result"
    }
   ],
   "source": [
    "model_uri = f\"runs:/90a6cb82264e4a7ab4d91bb5ff33e470/models/models\"\n",
    "mlflow.register_model(model_uri=model_uri, name='bestmodel_test')"
   ]
  },
  {
   "cell_type": "code",
   "execution_count": 53,
   "metadata": {},
   "outputs": [],
   "source": [
    "from mlflow.entities import ViewType\n",
    "from mlflow.tracking import MlflowClient\n",
    "\n",
    "MLFLOW_TRACKING_URI = \"sqlite:///mlflow.db\"\n",
    "client = MlflowClient(tracking_uri=MLFLOW_TRACKING_URI)\n",
    "experiment = client.get_experiment_by_name('random-forest-best-models')\n",
    "best_run = client.search_runs(\n",
    "        experiment_ids=experiment.experiment_id,\n",
    "        run_view_type=ViewType.ACTIVE_ONLY,\n",
    "        max_results=2,\n",
    "        order_by=[\"metrics.test_rmse ASC\"]\n",
    "    )[0]"
   ]
  },
  {
   "cell_type": "code",
   "execution_count": 58,
   "metadata": {},
   "outputs": [
    {
     "data": {
      "text/plain": [
       "<Run: data=<RunData: metrics={'test_rmse': 5.567408012462019, 'val_rmse': 5.335419588556921}, params={}, tags={'mlflow.log-model.history': '[{\"run_id\": \"90a6cb82264e4a7ab4d91bb5ff33e470\", '\n",
       "                             '\"artifact_path\": \"models\", \"utc_time_created\": '\n",
       "                             '\"2024-06-06 05:45:03.466769\", \"flavors\": '\n",
       "                             '{\"python_function\": {\"model_path\": \"model.pkl\", '\n",
       "                             '\"predict_fn\": \"predict\", \"loader_module\": '\n",
       "                             '\"mlflow.sklearn\", \"python_version\": \"3.9.19\", '\n",
       "                             '\"env\": {\"conda\": \"conda.yaml\", \"virtualenv\": '\n",
       "                             '\"python_env.yaml\"}}, \"sklearn\": '\n",
       "                             '{\"pickled_model\": \"model.pkl\", '\n",
       "                             '\"sklearn_version\": \"1.5.0\", '\n",
       "                             '\"serialization_format\": \"cloudpickle\", \"code\": '\n",
       "                             'null}}, \"model_uuid\": '\n",
       "                             '\"1a46b834dae842c098a02dbc709ee6ce\", '\n",
       "                             '\"mlflow_version\": \"2.13.1\", \"model_size_bytes\": '\n",
       "                             '2437643}]',\n",
       " 'mlflow.runName': 'intelligent-wasp-76',\n",
       " 'mlflow.source.git.commit': 'ed9976ab7b44b5d27f45312a15e86b5f87958b37',\n",
       " 'mlflow.source.name': '../utils/register_model.py',\n",
       " 'mlflow.source.type': 'LOCAL',\n",
       " 'mlflow.user': 'codespace'}>, info=<RunInfo: artifact_uri='/workspaces/mlop_zoomcamp_learning/2-exp-tracking/artifacts/3/90a6cb82264e4a7ab4d91bb5ff33e470/artifacts', end_time=1717652705646, experiment_id='3', lifecycle_stage='active', run_id='90a6cb82264e4a7ab4d91bb5ff33e470', run_name='intelligent-wasp-76', run_uuid='90a6cb82264e4a7ab4d91bb5ff33e470', start_time=1717652699755, status='FINISHED', user_id='codespace'>, inputs=<RunInputs: dataset_inputs=[]>>"
      ]
     },
     "execution_count": 58,
     "metadata": {},
     "output_type": "execute_result"
    }
   ],
   "source": [
    "best_run"
   ]
  },
  {
   "cell_type": "code",
   "execution_count": 56,
   "metadata": {},
   "outputs": [
    {
     "data": {
      "text/plain": [
       "'90a6cb82264e4a7ab4d91bb5ff33e470'"
      ]
     },
     "execution_count": 56,
     "metadata": {},
     "output_type": "execute_result"
    }
   ],
   "source": [
    "best_run.info.run_id"
   ]
  },
  {
   "cell_type": "code",
   "execution_count": 2,
   "metadata": {},
   "outputs": [],
   "source": [
    "#first run in terminal\n",
    "#! mlflow server --backend-store-uri sqlite:///mlflow.db --default-artifact-root ./artifacts"
   ]
  },
  {
   "cell_type": "code",
   "execution_count": 9,
   "metadata": {},
   "outputs": [
    {
     "name": "stderr",
     "output_type": "stream",
     "text": [
      "2024/06/06 02:14:40 INFO mlflow.tracking.fluent: Experiment with name 'hw2-experiment' does not exist. Creating a new experiment.\n"
     ]
    },
    {
     "data": {
      "text/plain": [
       "<Experiment: artifact_location='/workspaces/mlop_zoomcamp_learning/2-exp-tracking/mlruns/1', creation_time=1717640080544, experiment_id='1', last_update_time=1717640080544, lifecycle_stage='active', name='hw2-experiment', tags={}>"
      ]
     },
     "execution_count": 9,
     "metadata": {},
     "output_type": "execute_result"
    }
   ],
   "source": [
    "import mlflow\n",
    "mlflow.set_tracking_uri(\"sqlite:///mlflow.db\")\n",
    "mlflow.set_experiment(\"hw2-experiment\")"
   ]
  },
  {
   "cell_type": "code",
   "execution_count": 6,
   "metadata": {},
   "outputs": [
    {
     "data": {
      "text/plain": [
       "<Experiment: artifact_location='/workspaces/mlop_zoomcamp_learning/02-exp-tracking/mlruns/1', creation_time=1717638502196, experiment_id='1', last_update_time=1717638502196, lifecycle_stage='active', name='hw2-experiment', tags={}>"
      ]
     },
     "execution_count": 6,
     "metadata": {},
     "output_type": "execute_result"
    }
   ],
   "source": []
  },
  {
   "cell_type": "code",
   "execution_count": null,
   "metadata": {},
   "outputs": [],
   "source": []
  }
 ],
 "metadata": {
  "kernelspec": {
   "display_name": "Python 3",
   "language": "python",
   "name": "python3"
  },
  "language_info": {
   "codemirror_mode": {
    "name": "ipython",
    "version": 3
   },
   "file_extension": ".py",
   "mimetype": "text/x-python",
   "name": "python",
   "nbconvert_exporter": "python",
   "pygments_lexer": "ipython3",
   "version": "3.9.19"
  }
 },
 "nbformat": 4,
 "nbformat_minor": 2
}
